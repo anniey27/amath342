{
  "cells": [
    {
      "cell_type": "markdown",
      "metadata": {
        "id": "view-in-github",
        "colab_type": "text"
      },
      "source": [
        "<a href=\"https://colab.research.google.com/github/anniey27/amath342/blob/main/Homework%3A%20Compare_neurons.ipynb\" target=\"_parent\"><img src=\"https://colab.research.google.com/assets/colab-badge.svg\" alt=\"Open In Colab\"/></a>"
      ]
    },
    {
      "cell_type": "markdown",
      "id": "73d25d5a",
      "metadata": {
        "id": "73d25d5a"
      },
      "source": [
        "<div style=\"background: #F0FAFF; border-radius: 3px; padding: 10px;\">\n",
        "<h3> This notebook will compare tuning curves of different neurons using the Allen Brain Observatory data </h3>\n",
        "    \n",
        "In the first notebook, we computed the tuning curve of one neuron to the 'Drifting Gratings' stimulus. Here we will do this for many neurons so we can see the diversity of visual responses.\n"
      ]
    },
    {
      "cell_type": "code",
      "source": [
        "# @title Run to initialize Allen Brain Observatory on Colab {display-mode: \"form\" }\n",
        "# run only once per runtime/session, and only if running in colab\n",
        "# the runtime will need to restart after\n",
        "%%capture\n",
        "!apt install s3fs\n",
        "!pip install allensdk\n",
        "!mkdir -p /data/allen-brain-observatory/\n",
        "!s3fs allen-brain-observatory /data/allen-brain-observatory/ -o public_bucket=1"
      ],
      "metadata": {
        "id": "fZwHuV7_uqNp"
      },
      "id": "fZwHuV7_uqNp",
      "execution_count": 3,
      "outputs": []
    },
    {
      "cell_type": "markdown",
      "id": "328b07a0",
      "metadata": {
        "id": "328b07a0"
      },
      "source": [
        "### Standard imports"
      ]
    },
    {
      "cell_type": "code",
      "execution_count": 6,
      "id": "ac50c84c",
      "metadata": {
        "id": "ac50c84c"
      },
      "outputs": [],
      "source": [
        "import numpy as np\n",
        "import pandas as pd\n",
        "import matplotlib.pyplot as plt\n",
        "%matplotlib inline"
      ]
    },
    {
      "cell_type": "markdown",
      "id": "50eaa6e4",
      "metadata": {
        "id": "50eaa6e4"
      },
      "source": [
        "### Allen Brain Observatory set up"
      ]
    },
    {
      "cell_type": "code",
      "execution_count": 7,
      "id": "212135d6",
      "metadata": {
        "id": "212135d6"
      },
      "outputs": [],
      "source": [
        "from allensdk.core.brain_observatory_cache import BrainObservatoryCache\n",
        "\n",
        "manifest_file = '../data/allen-brain-observatory/visual-coding-2p/manifest.json'\n",
        "boc = BrainObservatoryCache(manifest_file=manifest_file)"
      ]
    },
    {
      "cell_type": "markdown",
      "id": "2ddbabd3",
      "metadata": {
        "id": "2ddbabd3"
      },
      "source": [
        "<div style=\"background: #DFF0D8; border-radius: 3px; padding: 10px;\">\n",
        "<p>In the last notebook we walked through computing the two dimensional tuning curve for just one neuron. Here we are going to do this for many neurons. To make this easier, begin by writing a function to compute the tuning curve, plot the heatmap, and save the figure to the results folder.\n",
        "<p>You will need the get_dff_traces_and_stim_table function that we used in the previous notebook as part of this so I've provided it here:\n",
        "</div>"
      ]
    },
    {
      "cell_type": "code",
      "execution_count": 8,
      "id": "ca663637",
      "metadata": {
        "id": "ca663637"
      },
      "outputs": [],
      "source": [
        "def get_dff_traces_and_stim_table(cell_specimen_id, stimulus):\n",
        "    #identify the session for a given cell id and stimulus\n",
        "    exps = boc.get_ophys_experiments(cell_specimen_ids=[cell_specimen_id], stimuli=[stimulus])\n",
        "\n",
        "    #get the session_id for that session\n",
        "    session_id = exps[0]['id']\n",
        "\n",
        "    #access the data for that session\n",
        "    data_set = boc.get_ophys_experiment_data(session_id)\n",
        "\n",
        "    #get the DFF trace for the cell\n",
        "    timestamps, dff = data_set.get_dff_traces(cell_specimen_ids=[cell_specimen_id])\n",
        "    dff_trace = dff[0,:]\n",
        "\n",
        "    #get the stimulus table for the stimulus\n",
        "    stim_table = data_set.get_stimulus_table(stimulus)\n",
        "\n",
        "    #return everything\n",
        "    return (timestamps, dff_trace, stim_table)"
      ]
    },
    {
      "cell_type": "markdown",
      "id": "3cf7399e",
      "metadata": {
        "id": "3cf7399e"
      },
      "source": [
        "<div style=\"background: #FFF0F0; border-radius: 3px; padding: 10px;\">\n",
        "<p>**Exercise 1:** Write a function to compute and plot the z-score of the tuning curve for a defined cell_id. I've outlined the function you need to write below - look back at your work in the previous notebook and do some strategic copying and pasting.\n",
        "</div>\n"
      ]
    },
    {
      "cell_type": "code",
      "execution_count": 52,
      "id": "086b0493",
      "metadata": {
        "id": "086b0493"
      },
      "outputs": [],
      "source": [
        "def compute_tuning(cell_id):\n",
        "    #get the dff_traces and the stimulus table using the function above\n",
        "    timestamps, dff_trace, stim_table = get_dff_traces_and_stim_table(cell_id,\n",
        "                                                                      stimulus)\n",
        "    #compute the cell response\n",
        "    cell_response= np.zeros((len(stim_table),3))\n",
        "    for i in range(len(stim_table)):\n",
        "        cell_response[i,0] = stim_table.orientation[i] #orientation\n",
        "        cell_response[i,1] = stim_table.temporal_frequency[i] #temporal frequency\n",
        "        cell_response[i,2] = dff_trace[stim_table.start[i]:stim_table.end[i]].mean()#mean response\n",
        "\n",
        "    # get the orivals and tfvals\n",
        "    orivals = np.unique(cell_response[:, 0])\n",
        "    tfvals = np.unique(cell_response[:, 1])\n",
        "\n",
        "    # having an issue with nan/inf values, so checking if they're here and removing them\n",
        "    orivals = orivals[np.isfinite(orivals)]\n",
        "    tfvals = tfvals[np.isfinite(tfvals)]\n",
        "\n",
        "    # compute the tuning array\n",
        "    tuning = np.zeros((len(orivals), len(tfvals)))\n",
        "    for i, ori in enumerate(orivals):\n",
        "        for j, tf in enumerate(tfvals):\n",
        "            trials = (cell_response[:, 0] == ori) & (cell_response[:, 1] == tf)\n",
        "            tuning[i, j] = cell_response[trials, 2].mean()\n",
        "\n",
        "    # compute the z-score\n",
        "    std_tuning = np.std(tuning)\n",
        "    mean_tuning = np.mean(tuning)\n",
        "    tuning_z = (tuning - mean_tuning) / std_tuning\n",
        "\n",
        "    # plot the heatmap of the tuning array\n",
        "    for i, ori in enumerate(orivals):\n",
        "        plt.plot(tfvals, tuning_z[i, :], label=f\"Orientation {ori}°\")\n",
        "\n",
        "    plt.xlabel(\"Temporal Frequency (Hz)\")\n",
        "    plt.ylabel(\"Z-score\")\n",
        "    plt.title(\"Z Score of Tuning Curve\")\n",
        "    plt.legend()\n",
        "    plt.show()\n",
        "\n",
        "    return tuning, tuning_z"
      ]
    },
    {
      "cell_type": "markdown",
      "id": "2342cac1",
      "metadata": {
        "id": "2342cac1"
      },
      "source": [
        "<div style=\"background: #FFF0F0; border-radius: 3px; padding: 10px;\">\n",
        "<p>**Exercise 2:** Test your function by computing and plotting the tuning curve for the neuron we looked at in the preious notebook, cell_id: 541513979\n",
        "</div>"
      ]
    },
    {
      "cell_type": "code",
      "source": [
        "cell_id = 541513979\n",
        "tuning, tuning_z = compute_tuning(cell_id)\n",
        "print(\"Tuning Array:\", tuning)\n",
        "print(\"Z-scored Tuning Array:\", tuning_z)"
      ],
      "metadata": {
        "id": "T2yauTHcWmwD",
        "colab": {
          "base_uri": "https://localhost:8080/",
          "height": 901
        },
        "outputId": "febdc156-2b99-4539-dcbf-66be8a3ecc69"
      },
      "id": "T2yauTHcWmwD",
      "execution_count": 53,
      "outputs": [
        {
          "output_type": "display_data",
          "data": {
            "text/plain": [
              "<Figure size 640x480 with 1 Axes>"
            ],
            "image/png": "[encoded data removed]"
          },
          "metadata": {}
        },
        {
          "output_type": "stream",
          "name": "stdout",
          "text": [
            "Tuning Array: [[ 5.44733334e-03  2.74314884e-02  1.00642059e-01  1.31085904e-02\n",
            "  -9.33339198e-03]\n",
            " [ 2.12238663e-03  1.45389121e-03  4.68400959e-04 -2.63391312e-03\n",
            "   1.02468282e-03]\n",
            " [ 2.36521010e+00  2.43408302e+00  1.76553687e+00  1.56588788e+00\n",
            "   9.27463206e-01]\n",
            " [-7.45246005e-03 -1.22696266e-03  3.43910728e-03 -6.60876827e-03\n",
            "  -2.16010856e-03]\n",
            " [ 2.44913390e-03 -1.24267348e-03  1.17516761e-02 -3.36494617e-03\n",
            "   6.42828858e-03]\n",
            " [ 3.93892424e-03  1.04745566e-03 -8.69145006e-04 -3.08841196e-03\n",
            "   7.98432483e-03]\n",
            " [ 1.60713360e+00  8.21318219e-01  5.90318163e-01  4.34047849e-01\n",
            "   1.17069845e+00]\n",
            " [-4.90759404e-04  2.16914783e-03 -4.83089223e-03 -1.00003566e-02\n",
            "   9.41361922e-04]]\n",
            "Z-scored Tuning Array: [[-0.50207346 -0.46961536 -0.36152496 -0.49076214 -0.52389619]\n",
            " [-0.50698252 -0.5079695  -0.50942451 -0.51400487 -0.5086032 ]\n",
            " [ 2.98195483  3.08364099  2.09657832  1.80181026  0.8592199 ]\n",
            " [-0.52111912 -0.5119276  -0.50503847 -0.51987347 -0.51330533]\n",
            " [-0.5065001  -0.5119508  -0.49276553 -0.51508419 -0.50062515]\n",
            " [-0.50430052 -0.50856958 -0.51139931 -0.5146759  -0.49832777]\n",
            " [ 1.86270673  0.70250409  0.36144831  0.13072588  1.21834009]\n",
            " [-0.51084065 -0.50691348 -0.51724856 -0.52488092 -0.50872622]]\n"
          ]
        }
      ]
    },
    {
      "cell_type": "markdown",
      "id": "664f1572",
      "metadata": {
        "id": "664f1572"
      },
      "source": [
        "<div style=\"background: #FFF0F0; border-radius: 3px; padding: 10px;\">\n",
        "<p>**Exercise 3:** Compute and plot the tuning curves for cell_ids 541511905, 541512490, 541512611, 541512645, 541512079, 541511403, 541511670, 541511373, 541513771, 541511385, 541512607.\n",
        "(Note: these are all neurons from the same session as the neuron above)\n",
        "\n",
        "</div>"
      ]
    },
    {
      "cell_type": "code",
      "source": [],
      "metadata": {
        "id": "dvB-dd9RWp3T"
      },
      "id": "dvB-dd9RWp3T",
      "execution_count": null,
      "outputs": []
    },
    {
      "cell_type": "markdown",
      "id": "6cc3691b",
      "metadata": {
        "id": "6cc3691b"
      },
      "source": [
        "<div style=\"background: #F0FAFF; border-radius: 3px; padding: 10px;\">\n",
        "What are some things you notice when looking at these? What are some of the ways different neurons have different tuning curves?\n",
        "</div>"
      ]
    },
    {
      "cell_type": "markdown",
      "id": "9c02a4cf",
      "metadata": {
        "id": "9c02a4cf"
      },
      "source": []
    },
    {
      "cell_type": "markdown",
      "id": "8c9a6484",
      "metadata": {
        "id": "8c9a6484"
      },
      "source": [
        "<div style=\"background: #DFF0D8; border-radius: 3px; padding: 10px;\">\n",
        "<p>All of the neurons we've looked at so far are from just one session. This means they are all from a single population of neurons in a specific mouse, that has a specific genotype and age, and that were recorded from a single brain region and a single imaging depth (i.e. cortical layer).\n",
        "<p>Let's see what these details are for this session. Begin by accessing the dataset for this session, starting with our orignal cell_id. We will use the same functions from the AllenSDK that are hidden in our get_dff_traces_and_stim_table function.\n",
        "</div>"
      ]
    },
    {
      "cell_type": "code",
      "execution_count": null,
      "id": "c67838e0",
      "metadata": {
        "id": "c67838e0"
      },
      "outputs": [],
      "source": [
        "cell_id = 541513979\n",
        "session_id = boc.get_ophys_experiments(cell_specimen_ids=[cell_id], stimuli=['drifting_gratings'])[0]['id']\n",
        "data_set = boc.get_ophys_experiment_data(session_id)"
      ]
    },
    {
      "cell_type": "markdown",
      "id": "7e162609",
      "metadata": {
        "id": "7e162609"
      },
      "source": [
        "<div style=\"background: #DFF0D8; border-radius: 3px; padding: 10px;\">\n",
        "<p>We can access metadata about this session using a function called `get_metadata`\n",
        "<p>\n",
        "</div>"
      ]
    },
    {
      "cell_type": "code",
      "execution_count": null,
      "id": "44039259",
      "metadata": {
        "id": "44039259"
      },
      "outputs": [],
      "source": [
        "metadata = data_set.get_metadata()"
      ]
    },
    {
      "cell_type": "markdown",
      "source": [
        "This is a dictionary with some metadata describing this experiment. Let's see what the `keys` of the dictionary are."
      ],
      "metadata": {
        "id": "_vqaC8Muw2I1"
      },
      "id": "_vqaC8Muw2I1"
    },
    {
      "cell_type": "code",
      "execution_count": null,
      "id": "a18a5f22",
      "metadata": {
        "colab": {
          "base_uri": "https://localhost:8080/"
        },
        "id": "a18a5f22",
        "outputId": "86ab2d79-86a6-4ad0-d4f0-0fb80b3ed41b"
      },
      "outputs": [
        {
          "output_type": "execute_result",
          "data": {
            "text/plain": [
              "dict_keys(['sex', 'targeted_structure', 'ophys_experiment_id', 'experiment_container_id', 'excitation_lambda', 'indicator', 'fov', 'genotype', 'session_start_time', 'session_type', 'specimen_name', 'cre_line', 'imaging_depth_um', 'age_days', 'device', 'device_name', 'pipeline_version'])"
            ]
          },
          "metadata": {},
          "execution_count": 12
        }
      ],
      "source": [
        "metadata.keys()"
      ]
    },
    {
      "cell_type": "markdown",
      "source": [
        "We can use this to pull some experimental details about the experiment"
      ],
      "metadata": {
        "id": "ZtUDPwhXw-I1"
      },
      "id": "ZtUDPwhXw-I1"
    },
    {
      "cell_type": "code",
      "execution_count": null,
      "id": "dd307efc",
      "metadata": {
        "colab": {
          "base_uri": "https://localhost:8080/"
        },
        "id": "dd307efc",
        "outputId": "0499dee7-dac8-4c60-92ad-dfe54da45f54"
      },
      "outputs": [
        {
          "output_type": "stream",
          "name": "stdout",
          "text": [
            "Mouse sex:  male\n",
            "Mouse age:  121\n",
            "Mouse genotype:  Emx1-IRES-Cre/wt;Camk2a-tTA/wt;Ai93(TITL-GCaMP6f)/wt\n",
            "Brain region:  VISp\n",
            "Imaging depth:  175\n"
          ]
        }
      ],
      "source": [
        "print(\"Mouse sex: \", metadata['sex'])\n",
        "print(\"Mouse age: \", metadata['age_days'])\n",
        "print(\"Mouse genotype: \", metadata[\"genotype\"])\n",
        "print(\"Brain region: \", metadata[\"targeted_structure\"])\n",
        "print(\"Imaging depth: \", metadata[\"imaging_depth_um\"])"
      ]
    },
    {
      "cell_type": "markdown",
      "id": "aa940631",
      "metadata": {
        "id": "aa940631"
      },
      "source": [
        "What does this mean?\n",
        "<p>We recorded from a male mouse in the brain region called \"VISp\". This is the primary visual cortex (sometimes called \"V1\").\n",
        "<p>The imaging depth is 175 um, which maps to layer 2/3 of the cortex.\n",
        "<p>And the genotype of the mouse is a jumble of letters. The first part \"Emx1-IRES-Cre\" is the Cre driver that is driving the expression of the reporter in a particular subset of neurons. In this case, Emx is a pan-excitatory driver, driving expression in all excitatory neurons, but not inhibitory interneurons. What is it driving? Camk2a-tTA and Ai93(TITL-GCaMP6f). Ai93 is GCaMP6f, a genetically encoded calcium indicator. Camk2a-tTA acts to amplify the expression of Ai93. In this mouse, all excitatory neurons in cortex are expressing GCaMP6f.\n",
        "<p>So the neurons we are recording in this experiment are excitatory neurons in layer 2/3 of VISp."
      ]
    },
    {
      "cell_type": "markdown",
      "id": "b17848ee",
      "metadata": {
        "id": "b17848ee"
      },
      "source": [
        "<div style=\"background: #DFF0D8; border-radius: 3px; padding: 10px;\">\n",
        "<p>In the entire Allen Brain Observatory dataset, we recorded from ~250 mice, sampling from 14 different transgenic lines (i.e. cell types), 6 cortical areas, and 4 different cortical layers. This allows us to compare responses of neurons across all these dimensions. So let's compare these Emx responses we've been looking at with some responses from neurons of different cell types in VISp.\n",
        "<p>The AllenSDK functions that we've been using to access our dataset allow us to use some of these metadata to identify sessions. Let's find sessions where neurons in VISp were recorded from other cell types.\n",
        "<p>We will look at responses from `Vip-IRES-Cre`, `Sst-IRES-Cre`, and `Pvalb-IRES-Cre`. These are three different types of inhibitory interneurons. As such they are much sparser than the Emx neurons are, so a given session often has a small number of neurons in it (say roughly a dozen) while the Emx session we were looking at before has over 200 neurons. We will just plot the tuning curves for all of the neurons in these experiments.\n",
        "</div>"
      ]
    },
    {
      "cell_type": "code",
      "execution_count": null,
      "id": "973d1d0b",
      "metadata": {
        "id": "973d1d0b"
      },
      "outputs": [],
      "source": [
        "#first we select a session with Sst-IRES-Cre in VISp when drifting gratings are presented. There are several such experiment and we'll just pull the first one (index 0).\n",
        "session_id = boc.get_ophys_experiments(cre_lines=['Sst-IRES-Cre'], targeted_structures=['VISp'], stimuli=['drifting_gratings'])[0]['id']\n",
        "#next get the dataset for this session\n",
        "data_set = boc.get_ophys_experiment_data(session_id)\n",
        "#last plot the tuning curve for all the neurons in this session\n",
        "for cell_id in data_set.get_cell_specimen_ids():\n",
        "    compute_tuning(cell_id)"
      ]
    },
    {
      "cell_type": "markdown",
      "source": [
        "<div style=\"background: #FFF0F0; border-radius: 3px; padding: 10px;\">\n",
        "<p>**Exercise 4:**  Repeat the same thing for `Pvalb-IRES-Cre`. (Copy the code above an[link text](https://)d replace the \"Sst-IRES-Cre\" with \"Pvalb-IRES-Cre\")</div>"
      ],
      "metadata": {
        "id": "SO7vsaHYyS8l"
      },
      "id": "SO7vsaHYyS8l"
    },
    {
      "cell_type": "code",
      "source": [],
      "metadata": {
        "id": "dlOE2fMpXpxg"
      },
      "id": "dlOE2fMpXpxg",
      "execution_count": null,
      "outputs": []
    },
    {
      "cell_type": "markdown",
      "source": [
        "<div style=\"background: #FFF0F0; border-radius: 3px; padding: 10px;\">\n",
        "<p>**Exercise 5:** Repeat the same thing for `Vip-IRES-Cre`. </div>"
      ],
      "metadata": {
        "id": "leBBxF_JyOpf"
      },
      "id": "leBBxF_JyOpf"
    },
    {
      "cell_type": "code",
      "execution_count": null,
      "id": "88fee9e4",
      "metadata": {
        "id": "88fee9e4"
      },
      "outputs": [],
      "source": []
    },
    {
      "cell_type": "markdown",
      "source": [
        "<div style=\"background: #FFF0F0; border-radius: 3px; padding: 10px;\">\n",
        "<p>What do you notice about these tuning curves for the inhibitory interneurons? In what ways do they look similar to the Emx cells? In what ways do they look different? How consistent are the responses within each inhibitory population? Are the tuning curves of the different types of inhibitory interneurons similar to each other? </div>"
      ],
      "metadata": {
        "id": "pf2wJg8pya0F"
      },
      "id": "pf2wJg8pya0F"
    },
    {
      "cell_type": "code",
      "source": [],
      "metadata": {
        "id": "243k1WSvy3BK"
      },
      "id": "243k1WSvy3BK",
      "execution_count": null,
      "outputs": []
    }
  ],
  "metadata": {
    "kernelspec": {
      "display_name": "Python 3",
      "language": "python",
      "name": "python3"
    },
    "language_info": {
      "codemirror_mode": {
        "name": "ipython",
        "version": 3
      },
      "file_extension": ".py",
      "mimetype": "text/x-python",
      "name": "python",
      "nbconvert_exporter": "python",
      "pygments_lexer": "ipython3",
      "version": "3.8.5"
    },
    "colab": {
      "provenance": [],
      "include_colab_link": true
    }
  },
  "nbformat": 4,
  "nbformat_minor": 5
}